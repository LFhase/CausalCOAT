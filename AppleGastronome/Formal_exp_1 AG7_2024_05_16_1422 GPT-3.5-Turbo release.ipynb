{
 "cells": [
  {
   "cell_type": "code",
   "execution_count": null,
   "metadata": {},
   "outputs": [],
   "source": [
    "import sys\n",
    "import  os\n",
    "\n",
    "import numpy as np\n",
    "import pandas as pd\n",
    "from io import StringIO\n",
    "import graphviz\n",
    "import lingam\n",
    "from lingam.utils import make_dot, make_prior_knowledge\n",
    "from causallearn.search.ConstraintBased.FCI import fci\n",
    "from causallearn.utils.GraphUtils import GraphUtils\n",
    "from copy import  deepcopy\n",
    "from scipy import stats\n",
    "from causallearn.utils.cit import CIT\n",
    "from sklearn.cluster import KMeans\n",
    "import json \n",
    "from itertools import combinations\n",
    "\n",
    "# load groundtruth\n",
    "meta = pd.read_excel('./Apple_Gastronome_AG7_v20240513.xlsx')\n",
    "\n",
    "# san check for groundtruth\n",
    "values = meta.values[:,:-1].astype(float)\n",
    "names = list(meta.columns[:-1])\n",
    "\n",
    "meta.head()"
   ]
  },
  {
   "cell_type": "code",
   "execution_count": 2,
   "metadata": {},
   "outputs": [],
   "source": [
    "import numpy as np\n",
    "import pandas as pd\n",
    "\n",
    "from copy import  deepcopy\n",
    "from scipy import stats\n",
    "from scipy.stats import entropy\n",
    "\n",
    "from sklearn.linear_model import LogisticRegression\n",
    "from sklearn.metrics import log_loss\n",
    "\n",
    "y = values[:,0]\n",
    "x = values[:,1:]\n",
    "\n",
    "def get_entropy_from_samples(y):\n",
    "    _, sk = np.unique(y, return_counts=True)\n",
    "    pk = sk / sk.sum()\n",
    "    return entropy(pk) \n",
    "    \n",
    "def get_conditional_entropy(y, X=None, n_clusters=10):\n",
    "    if X is None:\n",
    "        return get_entropy_from_samples(y)\n",
    "\n",
    "    clf = LogisticRegression().fit(X, y.astype(int))\n",
    "    return log_loss(y.astype(int), clf.predict_proba(X))\n",
    "\n",
    "\n",
    "def get_conditional_mutual_infomaion(y, x, h=None):\n",
    "    if (h is None) or (h.shape[1]==0):\n",
    "        return get_conditional_entropy(y) - get_conditional_entropy(y, x)\n",
    "\n",
    "    return get_conditional_entropy(y, h) - get_conditional_entropy(y, x)\n",
    "\n",
    "def avg10(y, x, h=None):\n",
    "    result = np.array([get_conditional_mutual_infomaion(y, x, h) for _ in range(10)])\n",
    "    return result.mean(), result.std()\n",
    "\n"
   ]
  },
  {
   "cell_type": "code",
   "execution_count": 4,
   "metadata": {},
   "outputs": [
    {
     "name": "stderr",
     "output_type": "stream",
     "text": [
      "Depth=0, working on node 6: 100%|██████████| 7/7 [00:00<00:00, 636.52it/s]"
     ]
    },
    {
     "name": "stdout",
     "output_type": "stream",
     "text": [
      "X1 --> X7\n",
      "digraph  {\n",
      "dpi=200;\n",
      "fontsize=18;\n",
      "0 [label=X1];\n",
      "0 [label=score];\n",
      "1 [label=X2];\n",
      "1 [label=nutrition];\n",
      "2 [label=X3];\n",
      "2 [label=size];\n",
      "3 [label=X4];\n",
      "3 [label=smell];\n",
      "4 [label=X5];\n",
      "4 [label=taste];\n",
      "5 [label=X6];\n",
      "5 [label=juiciness];\n",
      "6 [label=X7];\n",
      "6 [label=recmd];\n",
      "2 -> 0  [arrowhead=normal, arrowtail=odot, dir=both];\n",
      "3 -> 0  [arrowhead=normal, arrowtail=odot, dir=both];\n",
      "4 -> 0  [arrowhead=normal, arrowtail=odot, dir=both];\n",
      "0 -> 6  [arrowhead=normal, arrowtail=none, dir=both];\n",
      "1 -> 6  [arrowhead=normal, arrowtail=odot, dir=both];\n",
      "4 -> 5  [arrowhead=odot, arrowtail=odot, dir=both];\n",
      "}\n",
      "\n"
     ]
    },
    {
     "name": "stderr",
     "output_type": "stream",
     "text": [
      "\n"
     ]
    }
   ],
   "source": [
    "\n",
    "# Causal Discovery (FCI)\n",
    "g, edges = fci(values, alpha = 0.05, verbose=False, independence_test_method='gsq')\n",
    "\n",
    "# visualization\n",
    "pdy = GraphUtils.to_pydot(g, labels=names)\n",
    "print(pdy.to_string())"
   ]
  },
  {
   "cell_type": "markdown",
   "metadata": {},
   "source": [
    "# Utils"
   ]
  },
  {
   "cell_type": "code",
   "execution_count": 5,
   "metadata": {},
   "outputs": [],
   "source": [
    "def GetMB(G, node_name, y_node = 0):\n",
    "    mbset = set([y_node])\n",
    "    d = G.shape[0]\n",
    "\n",
    "    get_direct_set = lambda x: set([idx for idx in range(d) if np.abs(G[x, idx]) + np.abs(G[idx, x]) > 0])\n",
    "\n",
    "    direct_set = get_direct_set(y_node)\n",
    "    mbset = mbset.union(direct_set)\n",
    "\n",
    "    for idx in direct_set:\n",
    "        if G[idx, y_node ] == -1:\n",
    "            continue\n",
    "\n",
    "        for each_secondary in get_direct_set(idx):\n",
    "            if G[idx, each_secondary] == -1:\n",
    "                continue\n",
    "            mbset.add(each_secondary)\n",
    "    \n",
    "    return set([node_name[i] for i in mbset])"
   ]
  },
  {
   "cell_type": "code",
   "execution_count": 6,
   "metadata": {},
   "outputs": [],
   "source": [
    "def get_factor_name(this_factor):\n",
    "\n",
    "    this_factor = this_factor.split('\\n')[0].lower()\n",
    "\n",
    "    for i in range(20):\n",
    "        if f'{i}.' in this_factor:\n",
    "            this_factor = this_factor.replace(f'{i}.', '').strip()\n",
    "    \n",
    "    for s in \":\":\n",
    "        if s in this_factor:\n",
    "            this_factor = this_factor.replace(s, '').strip()\n",
    "\n",
    "    return this_factor\n",
    "\n",
    "def check_factor_list(factor_list):\n",
    "    factor_list = [f for f in factor_list if len(f)>10]\n",
    "    factor_list = [f for f in factor_list if (\" 1:\" in f)and((\" -1:\" in f)and(\" 0:\" in f))]\n",
    "\n",
    "    for outer_idx, each_str in enumerate(factor_list):\n",
    "        for idx, ch in enumerate(each_str):\n",
    "            if ch.isalpha():\n",
    "                break \n",
    "        each_str_list = each_str[idx:].split('\\n')\n",
    "\n",
    "        each_str = each_str_list[0].lower()\n",
    "        each_str_2 = '\\n'.join(each_str_list[1:])\n",
    "\n",
    "        for i in range(100):\n",
    "            if f'{i}' in each_str:\n",
    "                each_str = each_str.replace(f'{i}', '').strip()\n",
    "            \n",
    "        \n",
    "        for s in ['factor', \"*\", 'name', \":\", '.']:\n",
    "            if s in each_str:\n",
    "                each_str = each_str.replace(s, '').strip()\n",
    "                \n",
    "        if len(each_str)>0:\n",
    "            factor_list[outer_idx] = each_str+'\\n'+each_str_2\n",
    "        else:\n",
    "            factor_list[outer_idx] = ''\n",
    "    \n",
    "    factor_list = [f for f in factor_list if len(f)>10]\n",
    "\n",
    "    return factor_list\n",
    "\n",
    "\n",
    "def propose_prompt_with_data_in_front(example, used_factors = None):\n",
    "    \n",
    "    used_factors_hint = ''\n",
    "    if used_factors is not None:\n",
    "        used_factors_hint = \"\\n - Avoid overlapping with **those existing factors:**\\n\\t- \" + '\\n\\t- '.join(used_factors) + '\\n'\n",
    "    prompt = f'''\n",
    "You are an excellently helpful AI assistant for analyzing, abstracting, and processing data. Now try your best.\n",
    "\n",
    "# Data\n",
    "\n",
    "{example}\n",
    "\n",
    "# Tasks: Factor Abstraction.\n",
    "\n",
    "**What are the high-level factors behind the text that contribute to the allocation of groups?**\n",
    "\n",
    "- Propose your candidate factors based on your observation on given data.\n",
    "- The proposed factors should be diverse and different senmatically. Their overlapping should be minimized.\n",
    "\n",
    "# About Output\n",
    "\n",
    "Your output should contain parts described as follows.\n",
    "\n",
    "**Part 1**: Consideration.\n",
    "\n",
    "In this part, feel free to write down the process of your considerations. \n",
    "Hint: You need to abstract, identify, and design suitable factors with coresponding criteria, and each factor is only allowed to take value from  [-1, 0, 1] .  \n",
    "\n",
    "**Part 2**: Factor filtration. You shoud decide whether to use each of the proposed factors by following criteria:\n",
    "- Each new factor should be helpful to distinguish the groups.\n",
    "- Each Factor should focus on one concrete aspect and try to avoid overlape. {used_factors_hint}\n",
    "\n",
    "**Part 3**: Final Output. \n",
    "\n",
    " In this part, you are required to report the factors that you decided to use. \n",
    "- Each factors' value should from **[-1, 0, 1]** \n",
    "- **You should give specific criterion for each value of each factor.**\n",
    "- Keep the criterion for value 0 fixed as \"Otherwise; or not mentioned\". \n",
    "\n",
    "\n",
    "Report the factors **in following template:**\n",
    "\n",
    "```\n",
    "**Factor Name**\n",
    "- 1: [Positive Criterion]\n",
    "- 0: [Otherwise; or not mentioned].\n",
    "- -1: [Negative Criterion]\n",
    "```\n",
    "\n",
    "'''\n",
    "    return prompt"
   ]
  },
  {
   "cell_type": "code",
   "execution_count": 7,
   "metadata": {},
   "outputs": [],
   "source": [
    "def update(data_interface, file_name):\n",
    "    annotation_pd = pd.read_excel(file_name)\n",
    "    for f_name in annotation_pd.columns:\n",
    "        data_interface[f_name] = annotation_pd[f_name]\n",
    "    return data_interface"
   ]
  },
  {
   "cell_type": "code",
   "execution_count": 8,
   "metadata": {},
   "outputs": [
    {
     "name": "stdout",
     "output_type": "stream",
     "text": [
      "\n",
      "## Group with 'Score' = -4\n",
      "\n",
      "- Despite its rich nutrient content, featuring dietary fiber and vitamin C, this small apple fails to impress with its musty, potentially rotten aroma and an overpowering sourness that eclipses any sweetness. Its disappointing quality and taste profile suggest it might not be profitable for suppliers or satisfying for customers, posing a risk of financial loss.\n",
      "- This apple variety, with its notably low nutrient profile and diminutive stature, falls short in meeting desired quality marks. A pervasive mustiness indicates potential spoilage, detracting from its culinary appeal. Its sour overtones overshadow any sweetness, and a disappointing dryness further saps the fruit of vitality. For suppliers and customers alike, investing in this apple could unfortunately equate to financial risk rather than reward.\n",
      "- Despite the apple's hydrating quality, it disappointingly presents with a low nutrient profile, an underwhelming small size, and an off-putting musty odor suggesting decay. Its overly sour taste eclipses any anticipated sweetness, making it an unsavory choice for consumers and a risky venture for sellers, likely to incur financial losses.\n",
      "\n",
      "## Group with 'Score' = -3\n",
      "\n",
      "- The apple in question disappointingly presents itself with a scant array of essential nutrients, a diminutive stature, and a disconcerting musty flavor hinting at decay. Palate preference might vary, but its overly sour taste coupled with a deficient moisture content makes for an unsatisfying crunch. This lackluster profile suggests a grim outlook for both suppliers and customers, forecasting potential financial disappointment.\n",
      "- Despite its appealing petite form, this apple disappoints with an imbalance favoring a tart overtones over sweetness, a quality much cherished in snacking varieties. Moreover, its dry texture denotes a lack of juiciness, which compromises the enjoyment of a refreshing apple experience, ultimately making it a less desirable option for both fruit connoisseurs and casual consumers alike.\n",
      "- The assessed apple falls short in offering the essential nutrients that consumers demand, presenting a concerning deficiency. Its diminutive stature coupled with a distinct tartness that overshadows any sweetness detracts from its palate appeal. Moreover, the dry texture fails to satisfy those seeking a juicy bite. Given these drawbacks, this apple variety may disappoint buyers, posing a financial risk for suppliers.\n",
      "\n",
      "## Group with 'Score' = -2\n",
      "\n",
      "- Despite its high nutritional content, with admirable levels of dietary fiber and vitamin C, the apple's small size and musty, potentially rotten state diminish its overall quality. Its sweetness does little to redeem the dry and moisture-deprived texture. Unfortunately, this apple is subpar and might not be a worthwhile investment for suppliers, potentially leading to financial losses rather than profits.\n",
      "- After thorough evaluation, the apple in question, while impressively moist and sweet, fails to impress with its small stature and unpalatable mustiness indicative of decay. Such imperfections are likely to dim consumer interest and supplier profits, suggesting these apples are unworthy of both the discerning palate and the savvy investor.\n",
      "- This apple's rich nutrient profile, replete with dietary fiber and vitamin C, is overshadowed by its smaller size and stark tartness, which, coupled with a pronounced aroma, doesn’t compensate for its dry texture. This combination might sway customers towards juicier, sweeter varieties, posing a financial risk for suppliers keen on profitable returns.\n",
      "\n",
      "## Group with 'Score' = -1\n",
      "\n",
      "- This apple's limited nutritional value and large yet dry composition fall short for those seeking a juicy, balanced treat. Its sour profile overshadows sweetness, potentially discouraging customers, and with the looming possibility of unsatisfactory sales leading to losses, suppliers may want to reconsider its market viability.\n",
      "- Despite their high content of dietary fiber and vitamin C, these apples disappoint with their small size and unappetizing musty, rotten odor. Such attributes may deter health-conscious customers and discerning suppliers seeking premium quality produce for their markets. The health benefits are overshadowed by these significant shortcomings in freshness and appeal.\n",
      "- Despite its large size, which is typically appealing, this apple disappoints due to its unexpected musty or rotten condition and a surprisingly low nutrient profile. Consequently, it represents a poor investment with a high risk of financial loss rather than the anticipated profits for suppliers and customers alike.\n",
      "\n",
      "## Group with 'Score' = 0\n",
      "\n",
      "- Despite its diminutive stature, this apple variety packs a nutritious punch with ample dietary fiber and vitamin C. The robust aroma tantalizes the senses, although the taste leans towards tart rather than sweet, and could benefit from heightened juiciness. Nevertheless, its untapped market potential demands attention, suggesting a promising future on fruit stands.\n",
      "- This apple's profile—rich in essential nutrients like fiber and vitamin C—impresses on the wellness scale, despite its diminutive stature. A robust aroma and a tartness that eclipses its sweetness cater to those favoring a zesty bite, complemented by its juiciness. Undoubtedly, its potential in the market is as ample as its refreshing moisture, meriting increased attention.\n",
      "- The apple, despite its impressive large size and a strong aroma that promises a tantalizing experience, falls short on the palatal satisfaction scale. Its profile leans excessively towards sourness, overshadowing any hint of sweetness, and is compromised further by a dry texture, indicating a lack of juiciness—a significant detractor for moisture-seeking apple enthusiasts.\n",
      "\n",
      "## Group with 'Score' = 1\n",
      "\n",
      "- Despite its impressive large size and pleasantly sweet flavor, this apple falls short of expectations due to its low nutrient content and concerning mustiness, suggesting it may be past prime freshness. While its ample moisture offers a refreshing bite, the quality is compromised and I cannot recommend it to discerning customers or suppliers seeking premium, wholesome produce.\n",
      "- The petite stature of this apple belies its impact; its robust aroma is positively alluring, drawing one in with promises of luscious sweetness that far outpaces sour notes. Each bite releases a delightful surge of refreshing moisture, ensuring a pleasurable and hydrating experience, artfully balancing its condensed size with copious flavor and juiciness.\n",
      "- Unfortunately, despite its pleasantly abundant moisture providing a refreshing bite, this apple falls short due to its low nutrient content and an unappetizing musty taste that borders on rotten. While its sweetness is notable, the lack of sour balance and questionable freshness undermines its potential appeal to health-conscious consumers and culinary enthusiasts alike.\n",
      "\n",
      "## Group with 'Score' = 2\n",
      "\n",
      "- This large-sized apple offers a sweeter profile, which could appeal to those favoring less tart fruit. However, its low nutrient content, dry texture, and musty notes undermine its potential. Despite its significant market promise, quality improvements are necessary to fulfill its deserved wider recognition and ensure consumer satisfaction.\n",
      "- This apple variety is an exceptional blend of nutrition and flavor, boasting a rich profile of dietary fiber and vitamin C. Despite its diminutive size, it packs a powerful, sweet aroma complemented by a refreshing juiciness. Not overly tart, it presents a palate-pleasing sweetness ideal for the health-conscious consumer. Its untapped market potential demands increased visibility for apple aficionados everywhere.\n",
      "- The apple, despite its modest nutrient profile, impresses with a generous size and a potent aroma that promises flavor. Its delicate balance, favoring sweetness over tartness, couples with a juicy freshness that caters to a broad audience. Its considerable potential in the market should not be overlooked, warranting greater consumer and supplier attention.\n",
      "\n",
      "## Group with 'Score' = 3\n",
      "\n",
      "- Despite its underwhelming nutrient profile, this large apple impresses with its delightful sweetness, which overshadows its mild tartness. However, the texture disappoints, being dry and missing juiciness. Nevertheless, given its appealing size and flavor balance, it holds strong market promise and merits increased consumer awareness.\n",
      "- Despite its low nutrient content, this apple impresses with its large size and strong aroma, offering a sweet over sour flavor profile. Its abundant, refreshing moisture enhances the eating experience, making it a variety with significant market potential that rightly deserves wider recognition.\n",
      "- This apple variety impresses with a wealth of essential nutrients, bringing dietary fiber and vitamin C to the fore. Its large size is satisfying, while the sweetness overtakes any sourness, making it a delightful treat. What stands out is the apple's abundant moisture content, providing a refreshing burst with each bite, perfect for health-conscious consumers who appreciate juicy freshness.\n",
      "\n",
      "## Group with 'Score' = 4\n",
      "\n",
      "- With its high levels of dietary fiber and vitamin C, coupled with a large size and robust aroma, this sweet apple exceeds expectations. Its ample moisture refreshes, and given its strong market potential, it's poised for broader acclaim. Truly, this is a standout variety that both suppliers and consumers should take note of.\n",
      "- Despite its relatively low content of essential nutrients, this large apple impresses with its strong aroma and delightfully sweet taste, outbalancing its slight sourness. The apple’s abundant and refreshing moisture ensures a pleasurable eating experience, suggesting immense market potential. Its unique qualities undeniably merit broader acknowledgment in the consumer space.\n",
      "- This apple variety impresses with its substantial size and intoxicating aroma, promising a delightful sensory experience. Its balance, leaning towards sweetness with a burst of refreshing moisture, is complemented by a high content of essential nutrients, like dietary fiber and vitamin C. Given its attributes, this apple not only offers health benefits but holds strong market potential that merits greater recognition.\n",
      "\n"
     ]
    }
   ],
   "source": [
    "data = ''\n",
    "for g in np.unique(values[:,0]):\n",
    "    data += f'\\n## Group with \\'Score\\' = {int(g)}\\n\\n'\n",
    "    g_indeces = np.arange(len(values[:,0]))[values[:,0]==g]\n",
    "    g_indeces = np.random.choice(g_indeces, min(len(g_indeces), 3), replace=False)\n",
    "    for i in g_indeces:\n",
    "        this_review = meta.values[i,-1].replace('\\n','').strip()\n",
    "        data += f\"- {this_review}\\n\"\n",
    "print(data)"
   ]
  },
  {
   "cell_type": "markdown",
   "metadata": {},
   "source": [
    "# ----- exp begin ------"
   ]
  },
  {
   "cell_type": "code",
   "execution_count": 8,
   "metadata": {},
   "outputs": [],
   "source": [
    "target_name = 'score'\n",
    "benchmark_name = 'AG7'\n",
    "exp_uid = '2024_05_16_1422_hk_Mixtral'\n",
    "annotation = {}"
   ]
  },
  {
   "cell_type": "markdown",
   "metadata": {},
   "source": [
    "# GPT-3.5-Turbo\n",
    "\n",
    "https://poe.com/GPT-3.5-Turbo\n",
    "\n",
    "https://poe.com/s/tYvcQuIyRB54wVpyUZyx\n",
    "\n",
    "\n",
    "zeroshot: https://poe.com/s/Suv0XqninMg9nQTGFEiy\n"
   ]
  },
  {
   "cell_type": "code",
   "execution_count": 9,
   "metadata": {},
   "outputs": [],
   "source": [
    "this_bot_name = \"GPT-3.5-Turbo\" \n",
    "anno_model  = \"Mixtral-8x22b\" \n",
    "V = set([target_name])\n",
    "annotation[this_bot_name] = {}\n",
    "data_interface = pd.DataFrame({target_name:values[:,0]})\n",
    "selected_factors = set()"
   ]
  },
  {
   "cell_type": "code",
   "execution_count": 10,
   "metadata": {},
   "outputs": [
    {
     "data": {
      "text/plain": [
       "(0.9171624448484529, 1.1102230246251565e-16)"
      ]
     },
     "execution_count": 10,
     "metadata": {},
     "output_type": "execute_result"
    }
   ],
   "source": [
    "avg10(y, x, h=None)"
   ]
  },
  {
   "cell_type": "markdown",
   "metadata": {},
   "source": [
    "## iter 1"
   ]
  },
  {
   "cell_type": "markdown",
   "metadata": {},
   "source": [
    "### prompt"
   ]
  },
  {
   "cell_type": "code",
   "execution_count": 12,
   "metadata": {},
   "outputs": [
    {
     "name": "stdout",
     "output_type": "stream",
     "text": [
      "\n",
      "You are an excellently helpful AI assistant for analyzing, abstracting, and processing data. Now try your best.\n",
      "\n",
      "# Data\n",
      "\n",
      "\n",
      "## Group with 'Score' = -4\n",
      "\n",
      "- Despite its rich nutrient content, featuring dietary fiber and vitamin C, this small apple fails to impress with its musty, potentially rotten aroma and an overpowering sourness that eclipses any sweetness. Its disappointing quality and taste profile suggest it might not be profitable for suppliers or satisfying for customers, posing a risk of financial loss.\n",
      "- This apple variety, with its notably low nutrient profile and diminutive stature, falls short in meeting desired quality marks. A pervasive mustiness indicates potential spoilage, detracting from its culinary appeal. Its sour overtones overshadow any sweetness, and a disappointing dryness further saps the fruit of vitality. For suppliers and customers alike, investing in this apple could unfortunately equate to financial risk rather than reward.\n",
      "- Despite the apple's hydrating quality, it disappointingly presents with a low nutrient profile, an underwhelming small size, and an off-putting musty odor suggesting decay. Its overly sour taste eclipses any anticipated sweetness, making it an unsavory choice for consumers and a risky venture for sellers, likely to incur financial losses.\n",
      "\n",
      "## Group with 'Score' = -3\n",
      "\n",
      "- The apple in question disappointingly presents itself with a scant array of essential nutrients, a diminutive stature, and a disconcerting musty flavor hinting at decay. Palate preference might vary, but its overly sour taste coupled with a deficient moisture content makes for an unsatisfying crunch. This lackluster profile suggests a grim outlook for both suppliers and customers, forecasting potential financial disappointment.\n",
      "- Despite its appealing petite form, this apple disappoints with an imbalance favoring a tart overtones over sweetness, a quality much cherished in snacking varieties. Moreover, its dry texture denotes a lack of juiciness, which compromises the enjoyment of a refreshing apple experience, ultimately making it a less desirable option for both fruit connoisseurs and casual consumers alike.\n",
      "- The assessed apple falls short in offering the essential nutrients that consumers demand, presenting a concerning deficiency. Its diminutive stature coupled with a distinct tartness that overshadows any sweetness detracts from its palate appeal. Moreover, the dry texture fails to satisfy those seeking a juicy bite. Given these drawbacks, this apple variety may disappoint buyers, posing a financial risk for suppliers.\n",
      "\n",
      "## Group with 'Score' = -2\n",
      "\n",
      "- Despite its high nutritional content, with admirable levels of dietary fiber and vitamin C, the apple's small size and musty, potentially rotten state diminish its overall quality. Its sweetness does little to redeem the dry and moisture-deprived texture. Unfortunately, this apple is subpar and might not be a worthwhile investment for suppliers, potentially leading to financial losses rather than profits.\n",
      "- After thorough evaluation, the apple in question, while impressively moist and sweet, fails to impress with its small stature and unpalatable mustiness indicative of decay. Such imperfections are likely to dim consumer interest and supplier profits, suggesting these apples are unworthy of both the discerning palate and the savvy investor.\n",
      "- This apple's rich nutrient profile, replete with dietary fiber and vitamin C, is overshadowed by its smaller size and stark tartness, which, coupled with a pronounced aroma, doesn’t compensate for its dry texture. This combination might sway customers towards juicier, sweeter varieties, posing a financial risk for suppliers keen on profitable returns.\n",
      "\n",
      "## Group with 'Score' = -1\n",
      "\n",
      "- This apple's limited nutritional value and large yet dry composition fall short for those seeking a juicy, balanced treat. Its sour profile overshadows sweetness, potentially discouraging customers, and with the looming possibility of unsatisfactory sales leading to losses, suppliers may want to reconsider its market viability.\n",
      "- Despite their high content of dietary fiber and vitamin C, these apples disappoint with their small size and unappetizing musty, rotten odor. Such attributes may deter health-conscious customers and discerning suppliers seeking premium quality produce for their markets. The health benefits are overshadowed by these significant shortcomings in freshness and appeal.\n",
      "- Despite its large size, which is typically appealing, this apple disappoints due to its unexpected musty or rotten condition and a surprisingly low nutrient profile. Consequently, it represents a poor investment with a high risk of financial loss rather than the anticipated profits for suppliers and customers alike.\n",
      "\n",
      "## Group with 'Score' = 0\n",
      "\n",
      "- Despite its diminutive stature, this apple variety packs a nutritious punch with ample dietary fiber and vitamin C. The robust aroma tantalizes the senses, although the taste leans towards tart rather than sweet, and could benefit from heightened juiciness. Nevertheless, its untapped market potential demands attention, suggesting a promising future on fruit stands.\n",
      "- This apple's profile—rich in essential nutrients like fiber and vitamin C—impresses on the wellness scale, despite its diminutive stature. A robust aroma and a tartness that eclipses its sweetness cater to those favoring a zesty bite, complemented by its juiciness. Undoubtedly, its potential in the market is as ample as its refreshing moisture, meriting increased attention.\n",
      "- The apple, despite its impressive large size and a strong aroma that promises a tantalizing experience, falls short on the palatal satisfaction scale. Its profile leans excessively towards sourness, overshadowing any hint of sweetness, and is compromised further by a dry texture, indicating a lack of juiciness—a significant detractor for moisture-seeking apple enthusiasts.\n",
      "\n",
      "## Group with 'Score' = 1\n",
      "\n",
      "- Despite its impressive large size and pleasantly sweet flavor, this apple falls short of expectations due to its low nutrient content and concerning mustiness, suggesting it may be past prime freshness. While its ample moisture offers a refreshing bite, the quality is compromised and I cannot recommend it to discerning customers or suppliers seeking premium, wholesome produce.\n",
      "- The petite stature of this apple belies its impact; its robust aroma is positively alluring, drawing one in with promises of luscious sweetness that far outpaces sour notes. Each bite releases a delightful surge of refreshing moisture, ensuring a pleasurable and hydrating experience, artfully balancing its condensed size with copious flavor and juiciness.\n",
      "- Unfortunately, despite its pleasantly abundant moisture providing a refreshing bite, this apple falls short due to its low nutrient content and an unappetizing musty taste that borders on rotten. While its sweetness is notable, the lack of sour balance and questionable freshness undermines its potential appeal to health-conscious consumers and culinary enthusiasts alike.\n",
      "\n",
      "## Group with 'Score' = 2\n",
      "\n",
      "- This large-sized apple offers a sweeter profile, which could appeal to those favoring less tart fruit. However, its low nutrient content, dry texture, and musty notes undermine its potential. Despite its significant market promise, quality improvements are necessary to fulfill its deserved wider recognition and ensure consumer satisfaction.\n",
      "- This apple variety is an exceptional blend of nutrition and flavor, boasting a rich profile of dietary fiber and vitamin C. Despite its diminutive size, it packs a powerful, sweet aroma complemented by a refreshing juiciness. Not overly tart, it presents a palate-pleasing sweetness ideal for the health-conscious consumer. Its untapped market potential demands increased visibility for apple aficionados everywhere.\n",
      "- The apple, despite its modest nutrient profile, impresses with a generous size and a potent aroma that promises flavor. Its delicate balance, favoring sweetness over tartness, couples with a juicy freshness that caters to a broad audience. Its considerable potential in the market should not be overlooked, warranting greater consumer and supplier attention.\n",
      "\n",
      "## Group with 'Score' = 3\n",
      "\n",
      "- Despite its underwhelming nutrient profile, this large apple impresses with its delightful sweetness, which overshadows its mild tartness. However, the texture disappoints, being dry and missing juiciness. Nevertheless, given its appealing size and flavor balance, it holds strong market promise and merits increased consumer awareness.\n",
      "- Despite its low nutrient content, this apple impresses with its large size and strong aroma, offering a sweet over sour flavor profile. Its abundant, refreshing moisture enhances the eating experience, making it a variety with significant market potential that rightly deserves wider recognition.\n",
      "- This apple variety impresses with a wealth of essential nutrients, bringing dietary fiber and vitamin C to the fore. Its large size is satisfying, while the sweetness overtakes any sourness, making it a delightful treat. What stands out is the apple's abundant moisture content, providing a refreshing burst with each bite, perfect for health-conscious consumers who appreciate juicy freshness.\n",
      "\n",
      "## Group with 'Score' = 4\n",
      "\n",
      "- With its high levels of dietary fiber and vitamin C, coupled with a large size and robust aroma, this sweet apple exceeds expectations. Its ample moisture refreshes, and given its strong market potential, it's poised for broader acclaim. Truly, this is a standout variety that both suppliers and consumers should take note of.\n",
      "- Despite its relatively low content of essential nutrients, this large apple impresses with its strong aroma and delightfully sweet taste, outbalancing its slight sourness. The apple’s abundant and refreshing moisture ensures a pleasurable eating experience, suggesting immense market potential. Its unique qualities undeniably merit broader acknowledgment in the consumer space.\n",
      "- This apple variety impresses with its substantial size and intoxicating aroma, promising a delightful sensory experience. Its balance, leaning towards sweetness with a burst of refreshing moisture, is complemented by a high content of essential nutrients, like dietary fiber and vitamin C. Given its attributes, this apple not only offers health benefits but holds strong market potential that merits greater recognition.\n",
      "\n",
      "\n",
      "# Tasks: Factor Abstraction.\n",
      "\n",
      "**What are the high-level factors behind the text that contribute to the allocation of groups?**\n",
      "\n",
      "- Propose your candidate factors based on your observation on given data.\n",
      "- The proposed factors should be diverse and different senmatically. Their overlapping should be minimized.\n",
      "\n",
      "# About Output\n",
      "\n",
      "Your output should contain parts described as follows.\n",
      "\n",
      "**Part 1**: Consideration.\n",
      "\n",
      "In this part, feel free to write down the process of your considerations. \n",
      "Hint: You need to abstract, identify, and design suitable factors with coresponding criteria, and each factor is only allowed to take value from  [-1, 0, 1] .  \n",
      "\n",
      "**Part 2**: Factor filtration. You shoud decide whether to use each of the proposed factors by following criteria:\n",
      "- Each new factor should be helpful to distinguish the groups.\n",
      "- Each Factor should focus on one concrete aspect and try to avoid overlape. \n",
      "\n",
      "**Part 3**: Final Output. \n",
      "\n",
      " In this part, you are required to report the factors that you decided to use. \n",
      "- Each factors' value should from **[-1, 0, 1]** \n",
      "- **You should give specific criterion for each value of each factor.**\n",
      "- Keep the criterion for value 0 fixed as \"Otherwise; or not mentioned\". \n",
      "\n",
      "\n",
      "Report the factors **in following template:**\n",
      "\n",
      "```\n",
      "**Factor Name**\n",
      "- 1: [Positive Criterion]\n",
      "- 0: [Otherwise; or not mentioned].\n",
      "- -1: [Negative Criterion]\n",
      "```\n",
      "\n",
      "\n"
     ]
    }
   ],
   "source": [
    "print(propose_prompt_with_data_in_front(data))"
   ]
  },
  {
   "cell_type": "code",
   "execution_count": 11,
   "metadata": {},
   "outputs": [
    {
     "data": {
      "text/plain": [
       "['nutrient content\\n- 1: The apple has a rich nutrient profile, including dietary fiber and vitamin C.\\n- 0: Otherwise; or not mentioned.\\n- -1: The apple has a low nutrient profile and falls short of expectations.',\n",
       " 'size\\n- 1: The apple is large in size.\\n- 0: Otherwise; or not mentioned.\\n- -1: The apple is small in size.',\n",
       " 'aroma\\n- 1: The apple has a robust and pleasant aroma.\\n- 0: Otherwise; or not mentioned.\\n- -1: The apple has a musty or rotten scent.',\n",
       " 'taste profile\\n- 1: The apple has a delightful sweetness and a balanced flavor.\\n- 0: Otherwise; or not mentioned.\\n- -1: The apple is overly sour or leans towards tartness, lacking sweetness.',\n",
       " 'juiciness\\n- 1: The apple is juicy and refreshing.\\n- 0: Otherwise; or not mentioned.\\n- -1: The apple has a dry texture and lacks juiciness.']"
      ]
     },
     "execution_count": 11,
     "metadata": {},
     "output_type": "execute_result"
    }
   ],
   "source": [
    "result = \"\"\" \n",
    "<Factor Begin>\n",
    "\n",
    "\n",
    "**Factor 1: Nutrient Content**\n",
    "- 1: The apple has a rich nutrient profile, including dietary fiber and vitamin C.\n",
    "- 0: Otherwise; or not mentioned.\n",
    "- -1: The apple has a low nutrient profile and falls short of expectations.\n",
    "\n",
    "**Factor 2: Size**\n",
    "- 1: The apple is large in size.\n",
    "- 0: Otherwise; or not mentioned.\n",
    "- -1: The apple is small in size.\n",
    "\n",
    "**Factor 3: Aroma**\n",
    "- 1: The apple has a robust and pleasant aroma.\n",
    "- 0: Otherwise; or not mentioned.\n",
    "- -1: The apple has a musty or rotten scent.\n",
    "\n",
    "**Factor 4: Taste Profile**\n",
    "- 1: The apple has a delightful sweetness and a balanced flavor.\n",
    "- 0: Otherwise; or not mentioned.\n",
    "- -1: The apple is overly sour or leans towards tartness, lacking sweetness.\n",
    "\n",
    "**Factor 5: Juiciness**\n",
    "- 1: The apple is juicy and refreshing.\n",
    "- 0: Otherwise; or not mentioned.\n",
    "- -1: The apple has a dry texture and lacks juiciness.\n",
    "\n",
    "\n",
    "\n",
    "\"\"\"\n",
    "factor_list = result.split('<Factor Begin>')[-1].split('\\n\\n')\n",
    "\n",
    "factor_list = check_factor_list(factor_list)\n",
    "factor_list"
   ]
  },
  {
   "cell_type": "markdown",
   "metadata": {},
   "source": [
    "### confirmation"
   ]
  },
  {
   "cell_type": "code",
   "execution_count": 12,
   "metadata": {},
   "outputs": [
    {
     "data": {
      "text/plain": [
       "'annotations\\\\Apple_Gastronome_AG7_v20240513_colab_annoation_2024_05_16_1422_hk_Mixtral_GPT-3.5-Turbo_iter1.xlsx'"
      ]
     },
     "execution_count": 12,
     "metadata": {},
     "output_type": "execute_result"
    }
   ],
   "source": [
    "iteration = 1\n",
    "file_name = rf\"annotations\\Apple_Gastronome_AG7_v20240513_colab_annoation_{exp_uid}_{this_bot_name}_iter{iteration}.xlsx\"\n",
    "file_name"
   ]
  },
  {
   "cell_type": "code",
   "execution_count": 13,
   "metadata": {},
   "outputs": [
    {
     "data": {
      "text/html": [
       "<div>\n",
       "<style scoped>\n",
       "    .dataframe tbody tr th:only-of-type {\n",
       "        vertical-align: middle;\n",
       "    }\n",
       "\n",
       "    .dataframe tbody tr th {\n",
       "        vertical-align: top;\n",
       "    }\n",
       "\n",
       "    .dataframe thead th {\n",
       "        text-align: right;\n",
       "    }\n",
       "</style>\n",
       "<table border=\"1\" class=\"dataframe\">\n",
       "  <thead>\n",
       "    <tr style=\"text-align: right;\">\n",
       "      <th></th>\n",
       "      <th>score</th>\n",
       "      <th>nutrient content</th>\n",
       "      <th>size</th>\n",
       "      <th>aroma</th>\n",
       "      <th>taste profile</th>\n",
       "      <th>juiciness</th>\n",
       "    </tr>\n",
       "  </thead>\n",
       "  <tbody>\n",
       "    <tr>\n",
       "      <th>0</th>\n",
       "      <td>-3.0</td>\n",
       "      <td>-1</td>\n",
       "      <td>-1</td>\n",
       "      <td>0</td>\n",
       "      <td>-1</td>\n",
       "      <td>-1</td>\n",
       "    </tr>\n",
       "    <tr>\n",
       "      <th>1</th>\n",
       "      <td>0.0</td>\n",
       "      <td>1</td>\n",
       "      <td>-1</td>\n",
       "      <td>1</td>\n",
       "      <td>-1</td>\n",
       "      <td>1</td>\n",
       "    </tr>\n",
       "    <tr>\n",
       "      <th>2</th>\n",
       "      <td>3.0</td>\n",
       "      <td>-1</td>\n",
       "      <td>1</td>\n",
       "      <td>1</td>\n",
       "      <td>1</td>\n",
       "      <td>0</td>\n",
       "    </tr>\n",
       "    <tr>\n",
       "      <th>3</th>\n",
       "      <td>2.0</td>\n",
       "      <td>-1</td>\n",
       "      <td>1</td>\n",
       "      <td>-1</td>\n",
       "      <td>-1</td>\n",
       "      <td>1</td>\n",
       "    </tr>\n",
       "    <tr>\n",
       "      <th>4</th>\n",
       "      <td>1.0</td>\n",
       "      <td>1</td>\n",
       "      <td>1</td>\n",
       "      <td>-1</td>\n",
       "      <td>1</td>\n",
       "      <td>1</td>\n",
       "    </tr>\n",
       "  </tbody>\n",
       "</table>\n",
       "</div>"
      ],
      "text/plain": [
       "   score  nutrient content  size  aroma  taste profile  juiciness\n",
       "0   -3.0                -1    -1      0             -1         -1\n",
       "1    0.0                 1    -1      1             -1          1\n",
       "2    3.0                -1     1      1              1          0\n",
       "3    2.0                -1     1     -1             -1          1\n",
       "4    1.0                 1     1     -1              1          1"
      ]
     },
     "execution_count": 13,
     "metadata": {},
     "output_type": "execute_result"
    }
   ],
   "source": [
    "data_interface = update(data_interface, file_name)\n",
    "\n",
    "\n",
    "all_factors = list(data_interface.columns)\n",
    "\n",
    "for f in all_factors:\n",
    "    annotation[this_bot_name][f] = deepcopy(data_interface[f].to_list())\n",
    "    \n",
    "data_interface.head()"
   ]
  },
  {
   "cell_type": "code",
   "execution_count": 14,
   "metadata": {},
   "outputs": [
    {
     "name": "stdout",
     "output_type": "stream",
     "text": [
      "√\t1.0236655967332808e-10\ttaste profile\n",
      "√\t0.0007950928723781114\tjuiciness\n",
      "√\t2.848621338813473e-11\taroma\n",
      "√\t2.2870594307278225e-14\tsize\n",
      "\n",
      "\n",
      "\n",
      "×\t0.23633539289391092\tnutrient content\n"
     ]
    }
   ],
   "source": [
    "#annotated_name = [target_name]+list(V.difference([target_name])) + [get_factor_name(fstr) for fstr in factor_list]\n",
    "annotated_name = [target_name]+list(V.difference([target_name])) + list(set(all_factors).difference(V).difference([target_name]))\n",
    "annoted_values = data_interface[annotated_name].values\n",
    "\n",
    "ci_test = CIT(annoted_values, 'kci')\n",
    "alpha = 0.05\n",
    "\n",
    "V_indeces = [i+1 for i in range(len(V)-1)]\n",
    "\n",
    "new_factors = set()\n",
    "\n",
    "for i in range(len(V), len(annotated_name)):\n",
    "    p_value = ci_test(0, i, V_indeces)\n",
    "    check = p_value < alpha \n",
    "    if check:\n",
    "        new_factors.add(annotated_name[i])\n",
    "        print(f\"{'√' if check else '×'}\\t{p_value}\\t{annotated_name[i]}\")\n",
    "\n",
    "print('\\n\\n')\n",
    "\n",
    "new_factors_from_pools = set()\n",
    "V_indeces_pools = [i for i,f in enumerate(annotated_name) if f in V.union(new_factors).difference([target_name])]\n",
    "\n",
    "for i in range(len(V), len(annotated_name)):\n",
    "    if i in V_indeces_pools:\n",
    "        continue\n",
    "    \n",
    "    p_value = ci_test(0, i, V_indeces_pools)\n",
    "    check = p_value < alpha \n",
    "    if check:\n",
    "        new_factors_from_pools.add(annotated_name[i])\n",
    "    print(f\"{'√' if check else '×'}\\t{p_value}\\t{annotated_name[i]}\")"
   ]
  },
  {
   "cell_type": "code",
   "execution_count": 15,
   "metadata": {},
   "outputs": [
    {
     "name": "stderr",
     "output_type": "stream",
     "text": [
      "Depth=0, working on node 4: 100%|██████████| 5/5 [00:00<00:00, 277.78it/s]\n"
     ]
    },
    {
     "data": {
      "text/plain": [
       "{'aroma', 'juiciness', 'score', 'size', 'taste profile'}"
      ]
     },
     "execution_count": 15,
     "metadata": {},
     "output_type": "execute_result"
    }
   ],
   "source": [
    "selected_factors = V.union(new_factors).union(new_factors_from_pools)\n",
    "#annotated_name = [target_name]+ list(V.difference([target_name])) +list(new_factors.difference([target_name]))\n",
    "annotated_name = [target_name]+ list(selected_factors.difference([target_name]))\n",
    "annoted_values = data_interface[annotated_name].values\n",
    "\n",
    "corr_matrix = data_interface[annotated_name].corr().abs().values\n",
    "\n",
    "V_indeces = []\n",
    "for node_index in range(1, len(annotated_name)):\n",
    "    if corr_matrix[node_index, :node_index].max() > 0.9:\n",
    "        continue\n",
    "    V_indeces.append(node_index)\n",
    "\n",
    "annotated_name = [target_name]+ [annotated_name[i] for i in V_indeces]\n",
    "annoted_values = data_interface[annotated_name].values\n",
    "\n",
    "g, edges = fci(annoted_values, alpha = 0.05, independence_test_method='kci', depth=3, verbose=False)\n",
    "new_V = GetMB(g.graph, annotated_name, y_node = 0)\n",
    "\n",
    "new_V\n"
   ]
  },
  {
   "cell_type": "code",
   "execution_count": 16,
   "metadata": {},
   "outputs": [
    {
     "name": "stderr",
     "output_type": "stream",
     "text": [
      "Depth=0, working on node 4: 100%|██████████| 5/5 [00:00<00:00, 295.08it/s]\n"
     ]
    },
    {
     "name": "stdout",
     "output_type": "stream",
     "text": [
      "digraph  {\n",
      "dpi=200;\n",
      "fontsize=18;\n",
      "0 [label=X1];\n",
      "0 [label=score];\n",
      "1 [label=X2];\n",
      "1 [label=aroma];\n",
      "2 [label=X3];\n",
      "2 [label=size];\n",
      "3 [label=X4];\n",
      "3 [label=\"taste profile\"];\n",
      "4 [label=X5];\n",
      "4 [label=juiciness];\n",
      "1 -> 0  [arrowhead=normal, arrowtail=odot, dir=both];\n",
      "2 -> 0  [arrowhead=normal, arrowtail=odot, dir=both];\n",
      "3 -> 0  [arrowhead=normal, arrowtail=odot, dir=both];\n",
      "3 -> 4  [arrowhead=odot, arrowtail=odot, dir=both];\n",
      "}\n",
      "\n"
     ]
    }
   ],
   "source": [
    "old_v = deepcopy(V)\n",
    "V = deepcopy(new_V)\n",
    "factors = [ f for f in V if f!= target_name]\n",
    "annotated_name = [target_name]+factors\n",
    "annoted_values = data_interface[annotated_name].values\n",
    "\n",
    "# Causal Discovery (FCI)\n",
    "g, edges = fci(annoted_values, alpha = 0.05, independence_test_method='kci', verbose=False)\n",
    "\n",
    "# visualization\n",
    "pdy = GraphUtils.to_pydot(g, labels=annotated_name)\n",
    "print(pdy.to_string())"
   ]
  },
  {
   "cell_type": "code",
   "execution_count": 17,
   "metadata": {},
   "outputs": [
    {
     "name": "stdout",
     "output_type": "stream",
     "text": [
      "0.8\t0.20578886775739225\t0.36491367942348685\n"
     ]
    }
   ],
   "source": [
    "con_mi_old, _ = avg10(y, x, h=data_interface[list(old_v.difference([target_name]))].values)\n",
    "\n",
    "con_mi_add, _ = avg10(y, x, h=data_interface[list(old_v.union(new_factors).difference([target_name]))].values)\n",
    "\n",
    "con_mi_current, _ = avg10(y, x, h=data_interface[list(V.difference([target_name]))].values)\n",
    "\n",
    "n_new_factor = len(set([get_factor_name(fstr) for fstr in factor_list]).intersection(new_factors))\n",
    "\n",
    "C = 1 - (con_mi_add/con_mi_old)**(1/n_new_factor) if n_new_factor>0 else '-'\n",
    "\n",
    "P = n_new_factor/ len(factor_list)\n",
    "\n",
    "print(P, C, con_mi_current, sep='\\t')"
   ]
  },
  {
   "cell_type": "markdown",
   "metadata": {},
   "source": [
    "## iter 2"
   ]
  },
  {
   "cell_type": "markdown",
   "metadata": {},
   "source": [
    "### feedback"
   ]
  },
  {
   "cell_type": "code",
   "execution_count": null,
   "metadata": {},
   "outputs": [],
   "source": [
    "focus_factor = 'score'\n",
    "focus_label = data_interface[focus_factor].values[:100]\n",
    "background_factor = [f for f in V if f not in [focus_factor]]\n",
    "cond_vectors = data_interface[background_factor].values[:100,:]\n",
    "\n",
    "g = KMeans(n_clusters=len(background_factor)+1, random_state=0, n_init=\"auto\").fit(cond_vectors).labels_\n",
    "\n",
    "entropy_values = []\n",
    "set_g = list(set(g))\n",
    "for g_idx in set_g:\n",
    "    qk = np.unique(focus_label[g==g_idx], return_counts=True)[1]\n",
    "    n = qk.sum()\n",
    "    qk = qk/ n\n",
    "    this_entropy_values = stats.entropy(qk)\n",
    "    if n < len(qk) * 3:\n",
    "        this_entropy_values = -1\n",
    "    entropy_values.append(this_entropy_values)\n",
    "    print(g_idx, entropy_values[-1],n, qk)\n",
    "\n",
    "g_chosen = set_g[np.argmax(entropy_values)]\n",
    "print(f'choose g=={g_chosen}')\n"
   ]
  },
  {
   "cell_type": "code",
   "execution_count": 22,
   "metadata": {},
   "outputs": [
    {
     "name": "stdout",
     "output_type": "stream",
     "text": [
      "\n",
      "You are an excellently helpful AI assistant for analyzing, abstracting, and processing data. Now try your best.\n",
      "\n",
      "# Data\n",
      "\n",
      "\n",
      "\n",
      "## group with 'score' = -1.0\n",
      "\n",
      "- This apple variety impresses with its robust nutritional profile, packing a hearty dose of dietary fiber and vitamin C. Health-conscious consumers will appreciate the natural boost to their daily diet, bolstering both digestive wellness and immune system strength. Its rich nutrient content makes this apple an excellent choice for suppliers to offer and customers to enjoy.\n",
      "\n",
      "## group with 'score' = 0.0\n",
      "\n",
      "-  The apple delights with an intoxicating, strong aroma that promises to captivate the senses. This olfactory pleasure hints at the exceptional quality and freshness, distinguishing it as a choice fruit for both suppliers and consumers seeking a truly aromatic indulgence. The unmistakable scent elevates the apple beyond mere taste to a full sensory experience.\n",
      "-  Despite boasting a robust nutrient profile with ample dietary fiber and vitamin C, the apple's large size is overshadowed by an off-putting musty taste, leaning more towards sour than sweet. Nevertheless, its abundant moisture and remarkable hydration offer a refreshing bite, suggesting untapped market potential for this underappreciated variety.\n",
      "-  Despite its impressive size and refreshing moisture content, this apple variety's sour profile and lack of essential nutrients might render it less appealing to health-conscious consumers and culinary enthusiasts. Unfortunately, its subpar qualities could result in disappointing sales figures for suppliers and potential financial losses.\n",
      "\n",
      "## group with 'score' = 1.0\n",
      "\n",
      "-  Despite its impressive profile packed with dietary fiber and vitamin C, the large apple's musty, rotting scent detracts significantly from its otherwise sweet, moisture-rich flesh. While the apple could entice those with a sweet tooth and holds promise in terms of market expansion, it's imperative that the quality issues be addressed to achieve its deserved acclaim.\n",
      "-  Despite its promising nutrient profile, large size, and suitable sweetness, this apple's quality is compromised by a musty or rotten condition. Though it's moist and refreshing, with notable market potential, the freshness concern severely undermines its value. Regrettably, it cannot be recommended to consumers or suppliers until this issue is addressed and rectified.\n",
      "-  Despite its impressive large size and pleasantly sweet flavor, this apple falls short of expectations due to its low nutrient content and concerning mustiness, suggesting it may be past prime freshness. While its ample moisture offers a refreshing bite, the quality is compromised and I cannot recommend it to discerning customers or suppliers seeking premium, wholesome produce.\n",
      "\n",
      "## group with 'score' = 2.0\n",
      "\n",
      "-  Despite its impressive nutrient profile, boasting ample dietary fiber and vitamin C, and large size, this apple's musty, almost rotten aroma detracts significantly from its inherent sweetness and refreshing moisture. Its quality suggests potential market success, but recognition may be hindered without addressing the off-putting scent.\n",
      "-  Despite its lackluster nutrient profile and an unfortunate musty quality suggesting early spoilage, this large apple surprises with a pleasing sweetness, balanced by a burst of refreshing moisture. Its delightful taste coupled with its considerable size hints at untapped market potential that, if harnessed, could satisfy consumer desire for a juicier, sweeter apple variety.\n",
      "-  This apple impresses with its large size and high content of essential nutrients like dietary fiber and vitamin C, vital for health-conscious consumers. Its strong aroma and sweet flavor profile, with just a hint of sourness, make it a delightful treat. Additionally, the abundant, refreshing moisture within each bite ensures a satisfying and hydrating experience that is sure to please the palate.\n",
      "\n",
      "## group with 'score' = 3.0\n",
      "\n",
      "-  Despite its relatively low nutrient content, the substantial size and delightful sweetness of this apple are complemented by its abundant, refreshing moisture, making it a delightful choice for those who prefer a more indulgent taste. Its significant market potential is evident and certainly merits greater attention from both suppliers and consumers alike.\n",
      "-  Despite its low nutrient content, this apple impresses with its large size and strong aroma, offering a sweet over sour flavor profile. Its abundant, refreshing moisture enhances the eating experience, making it a variety with significant market potential that rightly deserves wider recognition.\n",
      "-  This apple is a nutritional powerhouse, boasting a high content of dietary fiber and vitamin C, essential for maintaining good health. Its large size makes it a hearty snack, while the strong aroma promises a delightful sensory experience. The sweetness perfectly balances its slight tang, and the refreshing moisture within each bite ensures a juicy, satisfying treat for any palate.\n",
      "\n",
      "## group with 'score' = 4.0\n",
      "\n",
      "-  This apple variety impresses with a beneficial nutrient profile, boasting ample dietary fiber and vitamin C, essential for a balanced diet. Its large size and potent aroma pair well with a distinctly sweet flavor, tilting the taste balance firmly away from tartness. While a tad dry, its promising market potential makes it a noteworthy contender worth exploring.\n",
      "-  Despite its relatively low content of essential nutrients, this large apple impresses with its strong aroma and delightfully sweet taste, outbalancing its slight sourness. The apple’s abundant and refreshing moisture ensures a pleasurable eating experience, suggesting immense market potential. Its unique qualities undeniably merit broader acknowledgment in the consumer space.\n",
      "\n",
      "# Tasks: Factor Abstraction.\n",
      "\n",
      "**What are the high-level factors behind the text that contribute to the allocation of groups?**\n",
      "\n",
      "- Propose your candidate factors based on your observation on given data.\n",
      "- The proposed factors should be diverse and different senmatically. Their overlapping should be minimized.\n",
      "\n",
      "# About Output\n",
      "\n",
      "Your output should contain parts described as follows.\n",
      "\n",
      "**Part 1**: Consideration.\n",
      "\n",
      "In this part, feel free to write down the process of your considerations. \n",
      "Hint: You need to abstract, identify, and design suitable factors with coresponding criteria, and each factor is only allowed to take value from  [-1, 0, 1] .  \n",
      "\n",
      "**Part 2**: Factor filtration. You shoud decide whether to use each of the proposed factors by following criteria:\n",
      "- Each new factor should be helpful to distinguish the groups.\n",
      "- Each Factor should focus on one concrete aspect and try to avoid overlape. \n",
      " - Avoid overlapping with **those existing factors:**\n",
      "\t- juiciness\n",
      "\t- taste profile\n",
      "\t- aroma\n",
      "\t- size\n",
      "\n",
      "\n",
      "**Part 3**: Final Output. \n",
      "\n",
      " In this part, you are required to report the factors that you decided to use. \n",
      "- Each factors' value should from **[-1, 0, 1]** \n",
      "- **You should give specific criterion for each value of each factor.**\n",
      "- Keep the criterion for value 0 fixed as \"Otherwise; or not mentioned\". \n",
      "\n",
      "\n",
      "Report the factors **in following template:**\n",
      "\n",
      "```\n",
      "**Factor Name**\n",
      "- 1: [Positive Criterion]\n",
      "- 0: [Otherwise; or not mentioned].\n",
      "- -1: [Negative Criterion]\n",
      "```\n",
      "\n",
      "\n"
     ]
    }
   ],
   "source": [
    "example = ''\n",
    "\n",
    "chosen_idx = g==g_chosen\n",
    "for f_v in np.sort(list(set(focus_label[chosen_idx]))):\n",
    "    example +=  f'\\n\\n## group with \\'{focus_factor}\\' = {f_v}\\n'\n",
    "    these_indeces = np.arange(len(focus_label))[(focus_label == f_v)&(chosen_idx)]\n",
    "    if len(these_indeces) > 3:\n",
    "        these_indeces = np.random.choice(these_indeces, 3, replace=False)\n",
    "    for each_idx in these_indeces:\n",
    "        this_review = meta.values[each_idx,-1]\n",
    "        pieces = this_review.split('\\n\\n')[:2]\n",
    "        del_idx = []\n",
    "        for idx, piece in enumerate(pieces):\n",
    "            if 'pattern' in piece.lower():\n",
    "                del_idx += [idx, idx+1]\n",
    "        this_review = '\\n\\n'.join([pieces[idx] for idx in range(len(pieces)) if idx not in del_idx])\n",
    "        example +=  f'\\n- {this_review}'\n",
    "print(propose_prompt_with_data_in_front(example, [f  for f in background_factor if f not in [target_name]]))\n"
   ]
  },
  {
   "cell_type": "code",
   "execution_count": 18,
   "metadata": {},
   "outputs": [
    {
     "data": {
      "text/plain": [
       "['nutritional profile\\n- 1: The apple variety has an impressive nutrient profile, packing a hearty dose of dietary fiber and vitamin C.\\n- 0: Otherwise; or not mentioned.\\n- -1: The apple variety has low nutrient content and lacks essential nutrients.',\n",
       " 'freshness\\n- 1: The apple variety has exceptional quality and freshness, distinguishing it as a choice fruit.\\n- 0: Otherwise; or not mentioned.\\n- -1: The apple variety has quality issues, such as being musty, rotten, or past prime freshness.',\n",
       " 'market potential\\n- 1: The apple variety has notable market potential and holds promise for market expansion.\\n- 0: Otherwise; or not mentioned.\\n- -1: The apple variety has limited market potential and may result in disappointing sales figures.',\n",
       " 'indulgent taste\\n- 1: The apple variety offers a more indulgent taste, with delightful sweetness and abundant, refreshing moisture.\\n- 0: Otherwise; or not mentioned.\\n- -1: The apple variety has a relatively low nutrient content but offers a more indulgent taste.',\n",
       " 'moisture content\\n- 1: The apple variety has abundant and refreshing moisture, ensuring a juicy and satisfying eating experience.\\n- 0: Otherwise; or not mentioned.\\n- -1: The apple variety lacks moisture and may be dry.']"
      ]
     },
     "execution_count": 18,
     "metadata": {},
     "output_type": "execute_result"
    }
   ],
   "source": [
    "result = \"\"\" \n",
    "<Factor Begin>\n",
    "\n",
    "\n",
    "**Factor 1: Nutritional Profile**\n",
    "- 1: The apple variety has an impressive nutrient profile, packing a hearty dose of dietary fiber and vitamin C.\n",
    "- 0: Otherwise; or not mentioned.\n",
    "- -1: The apple variety has low nutrient content and lacks essential nutrients.\n",
    "\n",
    "**Factor 2: Freshness**\n",
    "- 1: The apple variety has exceptional quality and freshness, distinguishing it as a choice fruit.\n",
    "- 0: Otherwise; or not mentioned.\n",
    "- -1: The apple variety has quality issues, such as being musty, rotten, or past prime freshness.\n",
    "\n",
    "**Factor 3: Market Potential**\n",
    "- 1: The apple variety has notable market potential and holds promise for market expansion.\n",
    "- 0: Otherwise; or not mentioned.\n",
    "- -1: The apple variety has limited market potential and may result in disappointing sales figures.\n",
    "\n",
    "**Factor 4: Indulgent Taste**\n",
    "- 1: The apple variety offers a more indulgent taste, with delightful sweetness and abundant, refreshing moisture.\n",
    "- 0: Otherwise; or not mentioned.\n",
    "- -1: The apple variety has a relatively low nutrient content but offers a more indulgent taste.\n",
    "\n",
    "**Factor 5: Moisture Content**\n",
    "- 1: The apple variety has abundant and refreshing moisture, ensuring a juicy and satisfying eating experience.\n",
    "- 0: Otherwise; or not mentioned.\n",
    "- -1: The apple variety lacks moisture and may be dry.\n",
    "\n",
    "\n",
    "\n",
    "\n",
    "\"\"\"\n",
    "factor_list = result.split('<Factor Begin>')[-1].split('\\n\\n')\n",
    "\n",
    "factor_list = check_factor_list(factor_list)\n",
    "factor_list"
   ]
  },
  {
   "cell_type": "markdown",
   "metadata": {},
   "source": [
    "### confirmation"
   ]
  },
  {
   "cell_type": "code",
   "execution_count": 19,
   "metadata": {},
   "outputs": [
    {
     "data": {
      "text/plain": [
       "'annotations\\\\Apple_Gastronome_AG7_v20240513_colab_annoation_2024_05_16_1422_hk_Mixtral_GPT-3.5-Turbo_iter2.xlsx'"
      ]
     },
     "execution_count": 19,
     "metadata": {},
     "output_type": "execute_result"
    }
   ],
   "source": [
    "iteration = 2\n",
    "file_name = rf\"annotations\\Apple_Gastronome_AG7_v20240513_colab_annoation_{exp_uid}_{this_bot_name}_iter{iteration}.xlsx\"\n",
    "file_name"
   ]
  },
  {
   "cell_type": "code",
   "execution_count": 20,
   "metadata": {},
   "outputs": [
    {
     "data": {
      "text/html": [
       "<div>\n",
       "<style scoped>\n",
       "    .dataframe tbody tr th:only-of-type {\n",
       "        vertical-align: middle;\n",
       "    }\n",
       "\n",
       "    .dataframe tbody tr th {\n",
       "        vertical-align: top;\n",
       "    }\n",
       "\n",
       "    .dataframe thead th {\n",
       "        text-align: right;\n",
       "    }\n",
       "</style>\n",
       "<table border=\"1\" class=\"dataframe\">\n",
       "  <thead>\n",
       "    <tr style=\"text-align: right;\">\n",
       "      <th></th>\n",
       "      <th>score</th>\n",
       "      <th>nutrient content</th>\n",
       "      <th>size</th>\n",
       "      <th>aroma</th>\n",
       "      <th>taste profile</th>\n",
       "      <th>juiciness</th>\n",
       "      <th>nutritional profile</th>\n",
       "      <th>freshness</th>\n",
       "      <th>market potential</th>\n",
       "      <th>indulgent taste</th>\n",
       "      <th>moisture content</th>\n",
       "    </tr>\n",
       "  </thead>\n",
       "  <tbody>\n",
       "    <tr>\n",
       "      <th>0</th>\n",
       "      <td>-3.0</td>\n",
       "      <td>-1</td>\n",
       "      <td>-1</td>\n",
       "      <td>0</td>\n",
       "      <td>-1</td>\n",
       "      <td>-1</td>\n",
       "      <td>-1</td>\n",
       "      <td>-1</td>\n",
       "      <td>-1</td>\n",
       "      <td>0</td>\n",
       "      <td>-1</td>\n",
       "    </tr>\n",
       "    <tr>\n",
       "      <th>1</th>\n",
       "      <td>0.0</td>\n",
       "      <td>1</td>\n",
       "      <td>-1</td>\n",
       "      <td>1</td>\n",
       "      <td>-1</td>\n",
       "      <td>1</td>\n",
       "      <td>-1</td>\n",
       "      <td>1</td>\n",
       "      <td>1</td>\n",
       "      <td>0</td>\n",
       "      <td>1</td>\n",
       "    </tr>\n",
       "    <tr>\n",
       "      <th>2</th>\n",
       "      <td>3.0</td>\n",
       "      <td>-1</td>\n",
       "      <td>1</td>\n",
       "      <td>1</td>\n",
       "      <td>1</td>\n",
       "      <td>0</td>\n",
       "      <td>0</td>\n",
       "      <td>0</td>\n",
       "      <td>1</td>\n",
       "      <td>0</td>\n",
       "      <td>0</td>\n",
       "    </tr>\n",
       "    <tr>\n",
       "      <th>3</th>\n",
       "      <td>2.0</td>\n",
       "      <td>-1</td>\n",
       "      <td>1</td>\n",
       "      <td>-1</td>\n",
       "      <td>-1</td>\n",
       "      <td>1</td>\n",
       "      <td>-1</td>\n",
       "      <td>-1</td>\n",
       "      <td>1</td>\n",
       "      <td>1</td>\n",
       "      <td>1</td>\n",
       "    </tr>\n",
       "    <tr>\n",
       "      <th>4</th>\n",
       "      <td>1.0</td>\n",
       "      <td>1</td>\n",
       "      <td>1</td>\n",
       "      <td>-1</td>\n",
       "      <td>1</td>\n",
       "      <td>1</td>\n",
       "      <td>1</td>\n",
       "      <td>-1</td>\n",
       "      <td>1</td>\n",
       "      <td>1</td>\n",
       "      <td>1</td>\n",
       "    </tr>\n",
       "  </tbody>\n",
       "</table>\n",
       "</div>"
      ],
      "text/plain": [
       "   score  nutrient content  size  aroma  taste profile  juiciness  \\\n",
       "0   -3.0                -1    -1      0             -1         -1   \n",
       "1    0.0                 1    -1      1             -1          1   \n",
       "2    3.0                -1     1      1              1          0   \n",
       "3    2.0                -1     1     -1             -1          1   \n",
       "4    1.0                 1     1     -1              1          1   \n",
       "\n",
       "   nutritional profile  freshness  market potential  indulgent taste  \\\n",
       "0                   -1         -1                -1                0   \n",
       "1                   -1          1                 1                0   \n",
       "2                    0          0                 1                0   \n",
       "3                   -1         -1                 1                1   \n",
       "4                    1         -1                 1                1   \n",
       "\n",
       "   moisture content  \n",
       "0                -1  \n",
       "1                 1  \n",
       "2                 0  \n",
       "3                 1  \n",
       "4                 1  "
      ]
     },
     "execution_count": 20,
     "metadata": {},
     "output_type": "execute_result"
    }
   ],
   "source": [
    "data_interface = update(data_interface, file_name)\n",
    "\n",
    "\n",
    "all_factors = list(data_interface.columns)\n",
    "\n",
    "for f in all_factors:\n",
    "    annotation[this_bot_name][f] = deepcopy(data_interface[f].to_list())\n",
    "    \n",
    "data_interface.head()"
   ]
  },
  {
   "cell_type": "code",
   "execution_count": 21,
   "metadata": {},
   "outputs": [
    {
     "name": "stdout",
     "output_type": "stream",
     "text": [
      "√\t0.0018704621599650029\tfreshness\n",
      "√\t2.7859217743841924e-07\tmarket potential\n",
      "\n",
      "\n",
      "\n",
      "√\t0.004018400677470946\tindulgent taste\n",
      "×\t0.1538428560713233\tnutritional profile\n",
      "×\t0.28332416389905957\tnutrient content\n",
      "×\t0.5222711519140202\tmoisture content\n"
     ]
    }
   ],
   "source": [
    "#annotated_name = [target_name]+list(V.difference([target_name])) + [get_factor_name(fstr) for fstr in factor_list]\n",
    "annotated_name = [target_name]+list(V.difference([target_name])) + list(set(all_factors).difference(V).difference([target_name]))\n",
    "annoted_values = data_interface[annotated_name].values\n",
    "\n",
    "ci_test = CIT(annoted_values, 'kci')\n",
    "alpha = 0.05\n",
    "\n",
    "V_indeces = [i+1 for i in range(len(V)-1)]\n",
    "\n",
    "new_factors = set()\n",
    "\n",
    "for i in range(len(V), len(annotated_name)):\n",
    "    p_value = ci_test(0, i, V_indeces)\n",
    "    check = p_value < alpha \n",
    "    if check:\n",
    "        new_factors.add(annotated_name[i])\n",
    "        print(f\"{'√' if check else '×'}\\t{p_value}\\t{annotated_name[i]}\")\n",
    "\n",
    "print('\\n\\n')\n",
    "\n",
    "new_factors_from_pools = set()\n",
    "V_indeces_pools = [i for i,f in enumerate(annotated_name) if f in V.union(new_factors).difference([target_name])]\n",
    "\n",
    "for i in range(len(V), len(annotated_name)):\n",
    "    if i in V_indeces_pools:\n",
    "        continue\n",
    "    \n",
    "    p_value = ci_test(0, i, V_indeces_pools)\n",
    "    check = p_value < alpha \n",
    "    if check:\n",
    "        new_factors_from_pools.add(annotated_name[i])\n",
    "    print(f\"{'√' if check else '×'}\\t{p_value}\\t{annotated_name[i]}\")"
   ]
  },
  {
   "cell_type": "code",
   "execution_count": 22,
   "metadata": {},
   "outputs": [
    {
     "name": "stderr",
     "output_type": "stream",
     "text": [
      "Depth=0, working on node 7: 100%|██████████| 8/8 [00:00<00:00, 186.04it/s]\n"
     ]
    },
    {
     "name": "stdout",
     "output_type": "stream",
     "text": [
      "X1 --> X4\n"
     ]
    },
    {
     "data": {
      "text/plain": [
       "{'indulgent taste', 'market potential', 'score', 'size', 'taste profile'}"
      ]
     },
     "execution_count": 22,
     "metadata": {},
     "output_type": "execute_result"
    }
   ],
   "source": [
    "selected_factors = V.union(new_factors).union(new_factors_from_pools)\n",
    "#annotated_name = [target_name]+ list(V.difference([target_name])) +list(new_factors.difference([target_name]))\n",
    "annotated_name = [target_name]+ list(selected_factors.difference([target_name]))\n",
    "annoted_values = data_interface[annotated_name].values\n",
    "\n",
    "corr_matrix = data_interface[annotated_name].corr().abs().values\n",
    "\n",
    "V_indeces = []\n",
    "for node_index in range(1, len(annotated_name)):\n",
    "    if corr_matrix[node_index, :node_index].max() > 0.9:\n",
    "        continue\n",
    "    V_indeces.append(node_index)\n",
    "\n",
    "annotated_name = [target_name]+ [annotated_name[i] for i in V_indeces]\n",
    "annoted_values = data_interface[annotated_name].values\n",
    "\n",
    "g, edges = fci(annoted_values, alpha = 0.05, independence_test_method='kci', depth=3, verbose=False)\n",
    "new_V = GetMB(g.graph, annotated_name, y_node = 0)\n",
    "\n",
    "new_V\n"
   ]
  },
  {
   "cell_type": "code",
   "execution_count": 23,
   "metadata": {},
   "outputs": [
    {
     "name": "stderr",
     "output_type": "stream",
     "text": [
      "Depth=0, working on node 4: 100%|██████████| 5/5 [00:00<00:00, 289.97it/s]\n"
     ]
    },
    {
     "name": "stdout",
     "output_type": "stream",
     "text": [
      "X1 --> X5\n",
      "digraph  {\n",
      "dpi=200;\n",
      "fontsize=18;\n",
      "0 [label=X1];\n",
      "0 [label=score];\n",
      "1 [label=X2];\n",
      "1 [label=size];\n",
      "2 [label=X3];\n",
      "2 [label=\"indulgent taste\"];\n",
      "3 [label=X4];\n",
      "3 [label=\"taste profile\"];\n",
      "4 [label=X5];\n",
      "4 [label=\"market potential\"];\n",
      "1 -> 0  [arrowhead=normal, arrowtail=odot, dir=both];\n",
      "3 -> 0  [arrowhead=normal, arrowtail=odot, dir=both];\n",
      "0 -> 4  [arrowhead=normal, arrowtail=none, dir=both];\n",
      "2 -> 3  [arrowhead=odot, arrowtail=odot, dir=both];\n",
      "}\n",
      "\n"
     ]
    }
   ],
   "source": [
    "old_v = deepcopy(V)\n",
    "V = deepcopy(new_V)\n",
    "factors = [ f for f in V if f!= target_name]\n",
    "annotated_name = [target_name]+factors\n",
    "annoted_values = data_interface[annotated_name].values\n",
    "\n",
    "# Causal Discovery (FCI)\n",
    "g, edges = fci(annoted_values, alpha = 0.05, independence_test_method='kci', verbose=False)\n",
    "\n",
    "# visualization\n",
    "pdy = GraphUtils.to_pydot(g, labels=annotated_name)\n",
    "print(pdy.to_string())"
   ]
  },
  {
   "cell_type": "code",
   "execution_count": 24,
   "metadata": {},
   "outputs": [
    {
     "name": "stdout",
     "output_type": "stream",
     "text": [
      "0.4\t0.1986471650332019\t0.3605296428478349\n"
     ]
    }
   ],
   "source": [
    "con_mi_old, _ = avg10(y, x, h=data_interface[list(old_v.difference([target_name]))].values)\n",
    "\n",
    "con_mi_add, _ = avg10(y, x, h=data_interface[list(old_v.union(new_factors).difference([target_name]))].values)\n",
    "\n",
    "con_mi_current, _ = avg10(y, x, h=data_interface[list(V.difference([target_name]))].values)\n",
    "\n",
    "n_new_factor = len(set([get_factor_name(fstr) for fstr in factor_list]).intersection(new_factors))\n",
    "\n",
    "C = 1 - (con_mi_add/con_mi_old)**(1/n_new_factor) if n_new_factor>0 else '-'\n",
    "\n",
    "P = n_new_factor/ len(factor_list)\n",
    "\n",
    "print(P, C, con_mi_current, sep='\\t')"
   ]
  },
  {
   "cell_type": "markdown",
   "metadata": {},
   "source": [
    "## iter 3"
   ]
  },
  {
   "cell_type": "markdown",
   "metadata": {},
   "source": [
    "### feedback"
   ]
  },
  {
   "cell_type": "code",
   "execution_count": 31,
   "metadata": {},
   "outputs": [
    {
     "name": "stdout",
     "output_type": "stream",
     "text": [
      "0 1.6932630222740752 22 [0.09090909 0.22727273 0.13636364 0.36363636 0.09090909 0.04545455\n",
      " 0.04545455]\n",
      "1 -1 8 [0.125 0.25  0.125 0.375 0.125]\n",
      "2 1.3994886078590607 20 [0.05 0.15 0.35 0.35 0.1 ]\n",
      "3 1.135900959294373 20 [0.1  0.25 0.1  0.55]\n",
      "4 1.5501909511534504 30 [0.1        0.16666667 0.33333333 0.06666667 0.3        0.03333333]\n",
      "choose g==0\n"
     ]
    }
   ],
   "source": [
    "focus_factor = 'score'\n",
    "focus_label = data_interface[focus_factor].values[:100]\n",
    "background_factor = [f for f in V if f not in [focus_factor]]\n",
    "cond_vectors = data_interface[background_factor].values[:100,:]\n",
    "\n",
    "g = KMeans(n_clusters=len(background_factor)+1, random_state=0, n_init=\"auto\").fit(cond_vectors).labels_\n",
    "\n",
    "entropy_values = []\n",
    "set_g = list(set(g))\n",
    "for g_idx in set_g:\n",
    "    qk = np.unique(focus_label[g==g_idx], return_counts=True)[1]\n",
    "    n = qk.sum()\n",
    "    qk = qk/ n\n",
    "    this_entropy_values = stats.entropy(qk)\n",
    "    if n < len(qk) * 3:\n",
    "        this_entropy_values = -1\n",
    "    entropy_values.append(this_entropy_values)\n",
    "    print(g_idx, entropy_values[-1],n, qk)\n",
    "\n",
    "g_chosen = set_g[np.argmax(entropy_values)]\n",
    "print(f'choose g=={g_chosen}')\n"
   ]
  },
  {
   "cell_type": "code",
   "execution_count": 32,
   "metadata": {},
   "outputs": [
    {
     "name": "stdout",
     "output_type": "stream",
     "text": [
      "\n",
      "You are an excellently helpful AI assistant for analyzing, abstracting, and processing data. Now try your best.\n",
      "\n",
      "# Data\n",
      "\n",
      "\n",
      "\n",
      "## group with 'score' = -3.0\n",
      "\n",
      "-  The apple in question, regrettably, fails to meet satisfactory standards, offering minimal nutritional value and an unpleasant, musty flavor profile that leans excessively sour. Its dry texture further detracts from the eating experience. Given these shortcomings, it's unlikely to satisfy consumers, posing a significant risk of commercial underperformance and potential financial loss for suppliers.\n",
      "-  Upon evaluation, this apple variety comes up short on essential nutrients and disappoints with a musty, near-rotten taste profile. Its flavor leans excessively sour, lacking the balance of sweetness one might anticipate. The fruit's dryness suggests a deficiency in moisture, which significantly undermines its culinary appeal. Consequently, it's a poor investment for suppliers and a regrettable choice for consumers, potentially yielding financial losses.\n",
      "\n",
      "## group with 'score' = -2.0\n",
      "\n",
      "-  This apple variety, despite its impressive size and refreshing juiciness, falls short due to its low nutrient content and disappointing flavor profile. The musty, possibly rotten condition severely diminishes its appeal, while the unexpected sourness over sweetness further detracts from a potentially enjoyable experience. Overall, it is a less desirable choice for both health-conscious consumers and taste aficionados.\n",
      "-  This apple variety disappoints with its paltry nutrient content and disproportionately large size, which contrasts starkly with its musty, possibly rotten flavor profile. Leaning sour over sweet, it also suffers from a dry texture that robs the fruit of juiciness and richness. Given these shortcomings, it promises little profitability, potentially eroding margins for both suppliers and discerning consumers.\n",
      "-  This apple variety, despite its impressive size, disappoints with a nutrient profile that falls short of expectations. Its inadequate moisture content results in a dry texture, while the flavor leans unpleasantly sour with an off-putting mustiness. Unfortunately, these qualities combined suggest a product that's unlikely to satisfy customers or yield profitable returns for suppliers.\n",
      "\n",
      "## group with 'score' = -1.0\n",
      "\n",
      "-  This apple variety presents a disappointing profile with a notable deficiency in essential nutrients, a concerning mustiness hinting at spoilage, a prominently sour taste over sweetness, and an unpleasantly dry texture. Its qualities are inadequate for culinary use or customer satisfaction, potentially incurring financial losses rather than profits for suppliers.\n",
      "-  This apple, rich in dietary fiber and vitamin C, offers a robust aroma sure to entice the health-conscious consumer. However, its sour profile and dry texture may not appeal to those seeking a juicy, sweet bite, making it a selective choice for a niche market.\n",
      "-  This apple's limited nutritional value and large yet dry composition fall short for those seeking a juicy, balanced treat. Its sour profile overshadows sweetness, potentially discouraging customers, and with the looming possibility of unsatisfactory sales leading to losses, suppliers may want to reconsider its market viability.\n",
      "\n",
      "## group with 'score' = 0.0\n",
      "\n",
      "-  Despite its large size and strong aroma, this apple variety disappoints with a low nutrient content and an unbalanced flavor profile leaning towards sourness. The disappointing lack of moisture compromises the eating experience, suggesting that both suppliers and consumers might find it less appealing. Its potential to underperform in the market poses a considerable risk for revenue loss.\n",
      "-  Despite an impressive nutrient profile with ample dietary fiber and vitamin C, and a pleasingly large size, this apple falters in taste and texture. The sweetness overwhelms, lacking acidity for balance, and the dry, moisture-deficient flesh coupled with a musty, possibly rotten undertone negates its potential, making it a poor choice for both suppliers and consumers.\n",
      "-  The apple, despite its impressive large size and a strong aroma that promises a tantalizing experience, falls short on the palatal satisfaction scale. Its profile leans excessively towards sourness, overshadowing any hint of sweetness, and is compromised further by a dry texture, indicating a lack of juiciness—a significant detractor for moisture-seeking apple enthusiasts.\n",
      "\n",
      "## group with 'score' = 1.0\n",
      "\n",
      "-  Despite the apple's robust aroma, which may appeal to those with a preference for sharp, fragrant fruits, its profile disappointingly lacks in essential nutrients. Additionally, the flavor tends heavily towards sour over sweet, potentially deterring those with a palate for more balanced or sugary varieties. This could well limit its appeal in the broader consumer market.\n",
      "-  Despite its large size, which may appeal to those looking for a sizable fruit option, this apple falls short in quality. The lack of essential nutrients makes it a poor choice for health-conscious consumers, while the musty or rotten odor suggests a decline in freshness. Its overly sweet profile overshadows the desired tartness, detracting from a balanced flavor experience.\n",
      "\n",
      "## group with 'score' = 2.0\n",
      "\n",
      "-  Despite its large and tempting size, this apple variety falls short with its relatively low nutrient content, a musty or rotten scent indicative of poor freshness, and an imbalanced flavor profile that is overly sweet with a lack of sourness. Furthermore, its dryness and lack of moisture significantly diminish its juiciness and overall palate appeal.\n",
      "\n",
      "## group with 'score' = 3.0\n",
      "\n",
      "-  The apple in question, despite boasting a notably large size and a robust aroma that could entice any fruit lover, falls short in terms of nutritional value. Its relatively low content of essential nutrients is something consumers and suppliers should weigh with consideration, potentially overshadowing the allure of its other sensory attributes.\n",
      "\n",
      "# Tasks: Factor Abstraction.\n",
      "\n",
      "**What are the high-level factors behind the text that contribute to the allocation of groups?**\n",
      "\n",
      "- Propose your candidate factors based on your observation on given data.\n",
      "- The proposed factors should be diverse and different senmatically. Their overlapping should be minimized.\n",
      "\n",
      "# About Output\n",
      "\n",
      "Your output should contain parts described as follows.\n",
      "\n",
      "**Part 1**: Consideration.\n",
      "\n",
      "In this part, feel free to write down the process of your considerations. \n",
      "Hint: You need to abstract, identify, and design suitable factors with coresponding criteria, and each factor is only allowed to take value from  [-1, 0, 1] .  \n",
      "\n",
      "**Part 2**: Factor filtration. You shoud decide whether to use each of the proposed factors by following criteria:\n",
      "- Each new factor should be helpful to distinguish the groups.\n",
      "- Each Factor should focus on one concrete aspect and try to avoid overlape. \n",
      " - Avoid overlapping with **those existing factors:**\n",
      "\t- indulgent taste\n",
      "\t- market potential\n",
      "\t- taste profile\n",
      "\t- size\n",
      "\n",
      "\n",
      "**Part 3**: Final Output. \n",
      "\n",
      " In this part, you are required to report the factors that you decided to use. \n",
      "- Each factors' value should from **[-1, 0, 1]** \n",
      "- **You should give specific criterion for each value of each factor.**\n",
      "- Keep the criterion for value 0 fixed as \"Otherwise; or not mentioned\". \n",
      "\n",
      "\n",
      "Report the factors **in following template:**\n",
      "\n",
      "```\n",
      "**Factor Name**\n",
      "- 1: [Positive Criterion]\n",
      "- 0: [Otherwise; or not mentioned].\n",
      "- -1: [Negative Criterion]\n",
      "```\n",
      "\n",
      "\n"
     ]
    }
   ],
   "source": [
    "example = ''\n",
    "\n",
    "chosen_idx = g==g_chosen\n",
    "for f_v in np.sort(list(set(focus_label[chosen_idx]))):\n",
    "    example +=  f'\\n\\n## group with \\'{focus_factor}\\' = {f_v}\\n'\n",
    "    these_indeces = np.arange(len(focus_label))[(focus_label == f_v)&(chosen_idx)]\n",
    "    if len(these_indeces) > 3:\n",
    "        these_indeces = np.random.choice(these_indeces, 3, replace=False)\n",
    "    for each_idx in these_indeces:\n",
    "        this_review = meta.values[each_idx,-1]\n",
    "        pieces = this_review.split('\\n\\n')[:2]\n",
    "        del_idx = []\n",
    "        for idx, piece in enumerate(pieces):\n",
    "            if 'pattern' in piece.lower():\n",
    "                del_idx += [idx, idx+1]\n",
    "        this_review = '\\n\\n'.join([pieces[idx] for idx in range(len(pieces)) if idx not in del_idx])\n",
    "        example +=  f'\\n- {this_review}'\n",
    "print(propose_prompt_with_data_in_front(example, [f  for f in background_factor if f not in [target_name]]))\n"
   ]
  },
  {
   "cell_type": "code",
   "execution_count": 25,
   "metadata": {},
   "outputs": [
    {
     "data": {
      "text/plain": [
       "['nutritional value\\n- 1: Higher nutritional value, rich in essential nutrients.\\n- 0: Otherwise; or not mentioned.\\n- -1: Lower nutritional value, minimal nutritional content.',\n",
       " 'flavor profile\\n- 1: Balanced flavor profile with a mix of sweetness and sourness.\\n- 0: Otherwise; or not mentioned.\\n- -1: Unbalanced flavor profile leaning towards sourness.',\n",
       " 'texture\\n- 1: Juicy and rich texture.\\n- 0: Otherwise; or not mentioned.\\n- -1: Dry texture.',\n",
       " 'moisture content\\n- 1: Higher moisture content.\\n- 0: Otherwise; or not mentioned.\\n- -1: Lower moisture content.',\n",
       " 'aroma\\n- 1: Strong and enticing aroma.\\n- 0: Otherwise; or not mentioned.\\n- -1: Musty or rotten aroma.',\n",
       " 'freshness\\n- 1: Higher freshness.\\n- 0: Otherwise; or not mentioned.\\n- -1: Lower freshness.\\n']"
      ]
     },
     "execution_count": 25,
     "metadata": {},
     "output_type": "execute_result"
    }
   ],
   "source": [
    "result = \"\"\" \n",
    "<Factor Begin>\n",
    "\n",
    "**Nutritional Value**\n",
    "- 1: Higher nutritional value, rich in essential nutrients.\n",
    "- 0: Otherwise; or not mentioned.\n",
    "- -1: Lower nutritional value, minimal nutritional content.\n",
    "\n",
    "**Flavor Profile**\n",
    "- 1: Balanced flavor profile with a mix of sweetness and sourness.\n",
    "- 0: Otherwise; or not mentioned.\n",
    "- -1: Unbalanced flavor profile leaning towards sourness.\n",
    "\n",
    "**Texture**\n",
    "- 1: Juicy and rich texture.\n",
    "- 0: Otherwise; or not mentioned.\n",
    "- -1: Dry texture.\n",
    "\n",
    "**Moisture Content**\n",
    "- 1: Higher moisture content.\n",
    "- 0: Otherwise; or not mentioned.\n",
    "- -1: Lower moisture content.\n",
    "\n",
    "**Aroma**\n",
    "- 1: Strong and enticing aroma.\n",
    "- 0: Otherwise; or not mentioned.\n",
    "- -1: Musty or rotten aroma.\n",
    "\n",
    "**Freshness**\n",
    "- 1: Higher freshness.\n",
    "- 0: Otherwise; or not mentioned.\n",
    "- -1: Lower freshness.\n",
    "\"\"\"\n",
    "factor_list = result.split('<Factor Begin>')[-1].split('\\n\\n')\n",
    "\n",
    "factor_list = check_factor_list(factor_list)\n",
    "factor_list"
   ]
  },
  {
   "cell_type": "markdown",
   "metadata": {},
   "source": [
    "### confirmation"
   ]
  },
  {
   "cell_type": "code",
   "execution_count": 26,
   "metadata": {},
   "outputs": [
    {
     "data": {
      "text/plain": [
       "'annotations\\\\Apple_Gastronome_AG7_v20240513_colab_annoation_2024_05_16_1422_hk_Mixtral_GPT-3.5-Turbo_iter3.xlsx'"
      ]
     },
     "execution_count": 26,
     "metadata": {},
     "output_type": "execute_result"
    }
   ],
   "source": [
    "iteration = 3\n",
    "file_name = rf\"annotations\\Apple_Gastronome_AG7_v20240513_colab_annoation_{exp_uid}_{this_bot_name}_iter{iteration}.xlsx\"\n",
    "file_name"
   ]
  },
  {
   "cell_type": "code",
   "execution_count": 28,
   "metadata": {},
   "outputs": [
    {
     "data": {
      "text/html": [
       "<div>\n",
       "<style scoped>\n",
       "    .dataframe tbody tr th:only-of-type {\n",
       "        vertical-align: middle;\n",
       "    }\n",
       "\n",
       "    .dataframe tbody tr th {\n",
       "        vertical-align: top;\n",
       "    }\n",
       "\n",
       "    .dataframe thead th {\n",
       "        text-align: right;\n",
       "    }\n",
       "</style>\n",
       "<table border=\"1\" class=\"dataframe\">\n",
       "  <thead>\n",
       "    <tr style=\"text-align: right;\">\n",
       "      <th></th>\n",
       "      <th>score</th>\n",
       "      <th>nutrient content</th>\n",
       "      <th>size</th>\n",
       "      <th>aroma</th>\n",
       "      <th>taste profile</th>\n",
       "      <th>juiciness</th>\n",
       "      <th>nutritional profile</th>\n",
       "      <th>freshness</th>\n",
       "      <th>market potential</th>\n",
       "      <th>indulgent taste</th>\n",
       "      <th>moisture content</th>\n",
       "      <th>nutritional value</th>\n",
       "      <th>flavor profile</th>\n",
       "      <th>texture</th>\n",
       "    </tr>\n",
       "  </thead>\n",
       "  <tbody>\n",
       "    <tr>\n",
       "      <th>0</th>\n",
       "      <td>-3.0</td>\n",
       "      <td>-1</td>\n",
       "      <td>-1</td>\n",
       "      <td>0</td>\n",
       "      <td>-1</td>\n",
       "      <td>-1</td>\n",
       "      <td>-1</td>\n",
       "      <td>-1</td>\n",
       "      <td>-1</td>\n",
       "      <td>0</td>\n",
       "      <td>-1</td>\n",
       "      <td>-1</td>\n",
       "      <td>-1</td>\n",
       "      <td>-1</td>\n",
       "    </tr>\n",
       "    <tr>\n",
       "      <th>1</th>\n",
       "      <td>0.0</td>\n",
       "      <td>1</td>\n",
       "      <td>-1</td>\n",
       "      <td>1</td>\n",
       "      <td>-1</td>\n",
       "      <td>1</td>\n",
       "      <td>-1</td>\n",
       "      <td>1</td>\n",
       "      <td>1</td>\n",
       "      <td>0</td>\n",
       "      <td>1</td>\n",
       "      <td>1</td>\n",
       "      <td>-1</td>\n",
       "      <td>1</td>\n",
       "    </tr>\n",
       "    <tr>\n",
       "      <th>2</th>\n",
       "      <td>3.0</td>\n",
       "      <td>-1</td>\n",
       "      <td>1</td>\n",
       "      <td>1</td>\n",
       "      <td>1</td>\n",
       "      <td>0</td>\n",
       "      <td>0</td>\n",
       "      <td>0</td>\n",
       "      <td>1</td>\n",
       "      <td>0</td>\n",
       "      <td>0</td>\n",
       "      <td>0</td>\n",
       "      <td>0</td>\n",
       "      <td>0</td>\n",
       "    </tr>\n",
       "    <tr>\n",
       "      <th>3</th>\n",
       "      <td>2.0</td>\n",
       "      <td>-1</td>\n",
       "      <td>1</td>\n",
       "      <td>-1</td>\n",
       "      <td>-1</td>\n",
       "      <td>1</td>\n",
       "      <td>-1</td>\n",
       "      <td>-1</td>\n",
       "      <td>1</td>\n",
       "      <td>1</td>\n",
       "      <td>1</td>\n",
       "      <td>-1</td>\n",
       "      <td>1</td>\n",
       "      <td>1</td>\n",
       "    </tr>\n",
       "    <tr>\n",
       "      <th>4</th>\n",
       "      <td>1.0</td>\n",
       "      <td>1</td>\n",
       "      <td>1</td>\n",
       "      <td>-1</td>\n",
       "      <td>1</td>\n",
       "      <td>1</td>\n",
       "      <td>1</td>\n",
       "      <td>-1</td>\n",
       "      <td>1</td>\n",
       "      <td>1</td>\n",
       "      <td>1</td>\n",
       "      <td>1</td>\n",
       "      <td>0</td>\n",
       "      <td>1</td>\n",
       "    </tr>\n",
       "  </tbody>\n",
       "</table>\n",
       "</div>"
      ],
      "text/plain": [
       "   score  nutrient content  size  aroma  taste profile  juiciness  \\\n",
       "0   -3.0                -1    -1      0             -1         -1   \n",
       "1    0.0                 1    -1      1             -1          1   \n",
       "2    3.0                -1     1      1              1          0   \n",
       "3    2.0                -1     1     -1             -1          1   \n",
       "4    1.0                 1     1     -1              1          1   \n",
       "\n",
       "   nutritional profile  freshness  market potential  indulgent taste  \\\n",
       "0                   -1         -1                -1                0   \n",
       "1                   -1          1                 1                0   \n",
       "2                    0          0                 1                0   \n",
       "3                   -1         -1                 1                1   \n",
       "4                    1         -1                 1                1   \n",
       "\n",
       "   moisture content  nutritional value  flavor profile  texture  \n",
       "0                -1                 -1              -1       -1  \n",
       "1                 1                  1              -1        1  \n",
       "2                 0                  0               0        0  \n",
       "3                 1                 -1               1        1  \n",
       "4                 1                  1               0        1  "
      ]
     },
     "execution_count": 28,
     "metadata": {},
     "output_type": "execute_result"
    }
   ],
   "source": [
    "data_interface = update(data_interface, file_name)\n",
    "\n",
    "\n",
    "all_factors = list(data_interface.columns)\n",
    "\n",
    "for f in all_factors:\n",
    "    annotation[this_bot_name][f] = deepcopy(data_interface[f].to_list())\n",
    "    \n",
    "data_interface.head()"
   ]
  },
  {
   "cell_type": "code",
   "execution_count": 29,
   "metadata": {},
   "outputs": [
    {
     "name": "stdout",
     "output_type": "stream",
     "text": [
      "√\t3.701218185903077e-05\tnutritional value\n",
      "√\t1.2800871473928055e-12\taroma\n",
      "√\t0.00017371623159445626\tfreshness\n",
      "√\t3.8587890410002323e-05\tnutritional profile\n",
      "√\t1.9079969638902128e-05\tnutrient content\n",
      "\n",
      "\n",
      "\n",
      "×\t0.7087925098871173\ttexture\n",
      "×\t0.5098746453758228\tmoisture content\n",
      "×\t0.6854193167136001\tjuiciness\n",
      "√\t0.036611117597464604\tflavor profile\n"
     ]
    }
   ],
   "source": [
    "#annotated_name = [target_name]+list(V.difference([target_name])) + [get_factor_name(fstr) for fstr in factor_list]\n",
    "annotated_name = [target_name]+list(V.difference([target_name])) + list(set(all_factors).difference(V).difference([target_name]))\n",
    "annoted_values = data_interface[annotated_name].values\n",
    "\n",
    "ci_test = CIT(annoted_values, 'kci')\n",
    "alpha = 0.05\n",
    "\n",
    "V_indeces = [i+1 for i in range(len(V)-1)]\n",
    "\n",
    "new_factors = set()\n",
    "\n",
    "for i in range(len(V), len(annotated_name)):\n",
    "    p_value = ci_test(0, i, V_indeces)\n",
    "    check = p_value < alpha \n",
    "    if check:\n",
    "        new_factors.add(annotated_name[i])\n",
    "        print(f\"{'√' if check else '×'}\\t{p_value}\\t{annotated_name[i]}\")\n",
    "\n",
    "print('\\n\\n')\n",
    "\n",
    "new_factors_from_pools = set()\n",
    "V_indeces_pools = [i for i,f in enumerate(annotated_name) if f in V.union(new_factors).difference([target_name])]\n",
    "\n",
    "for i in range(len(V), len(annotated_name)):\n",
    "    if i in V_indeces_pools:\n",
    "        continue\n",
    "    \n",
    "    p_value = ci_test(0, i, V_indeces_pools)\n",
    "    check = p_value < alpha \n",
    "    if check:\n",
    "        new_factors_from_pools.add(annotated_name[i])\n",
    "    print(f\"{'√' if check else '×'}\\t{p_value}\\t{annotated_name[i]}\")"
   ]
  },
  {
   "cell_type": "code",
   "execution_count": 30,
   "metadata": {},
   "outputs": [
    {
     "name": "stderr",
     "output_type": "stream",
     "text": [
      "Depth=0, working on node 8: 100%|██████████| 9/9 [00:00<00:00, 160.52it/s]\n"
     ]
    },
    {
     "name": "stdout",
     "output_type": "stream",
     "text": [
      "X4 --> X3\n",
      "X6 --> X4\n",
      "X4 --> X9\n",
      "X7 --> X6\n",
      "X9 --> X7\n"
     ]
    },
    {
     "data": {
      "text/plain": [
       "{'market potential', 'nutritional value', 'score', 'size', 'taste profile'}"
      ]
     },
     "execution_count": 30,
     "metadata": {},
     "output_type": "execute_result"
    }
   ],
   "source": [
    "selected_factors = V.union(new_factors).union(new_factors_from_pools)\n",
    "#annotated_name = [target_name]+ list(V.difference([target_name])) +list(new_factors.difference([target_name]))\n",
    "annotated_name = [target_name]+ list(selected_factors.difference([target_name]))\n",
    "annoted_values = data_interface[annotated_name].values\n",
    "\n",
    "corr_matrix = data_interface[annotated_name].corr().abs().values\n",
    "\n",
    "V_indeces = []\n",
    "for node_index in range(1, len(annotated_name)):\n",
    "    if corr_matrix[node_index, :node_index].max() > 0.9:\n",
    "        continue\n",
    "    V_indeces.append(node_index)\n",
    "\n",
    "annotated_name = [target_name]+ [annotated_name[i] for i in V_indeces]\n",
    "annoted_values = data_interface[annotated_name].values\n",
    "\n",
    "g, edges = fci(annoted_values, alpha = 0.05, independence_test_method='kci', depth=3, verbose=False)\n",
    "new_V = GetMB(g.graph, annotated_name, y_node = 0)\n",
    "\n",
    "new_V\n"
   ]
  },
  {
   "cell_type": "code",
   "execution_count": 31,
   "metadata": {},
   "outputs": [
    {
     "name": "stderr",
     "output_type": "stream",
     "text": [
      "Depth=0, working on node 4: 100%|██████████| 5/5 [00:00<00:00, 285.19it/s]\n"
     ]
    },
    {
     "name": "stdout",
     "output_type": "stream",
     "text": [
      "X1 --> X5\n",
      "digraph  {\n",
      "dpi=200;\n",
      "fontsize=18;\n",
      "0 [label=X1];\n",
      "0 [label=score];\n",
      "1 [label=X2];\n",
      "1 [label=\"nutritional value\"];\n",
      "2 [label=X3];\n",
      "2 [label=size];\n",
      "3 [label=X4];\n",
      "3 [label=\"taste profile\"];\n",
      "4 [label=X5];\n",
      "4 [label=\"market potential\"];\n",
      "2 -> 0  [arrowhead=normal, arrowtail=odot, dir=both];\n",
      "3 -> 0  [arrowhead=normal, arrowtail=odot, dir=both];\n",
      "0 -> 4  [arrowhead=normal, arrowtail=none, dir=both];\n",
      "1 -> 4  [arrowhead=normal, arrowtail=odot, dir=both];\n",
      "3 -> 4  [arrowhead=normal, arrowtail=none, dir=both];\n",
      "}\n",
      "\n"
     ]
    }
   ],
   "source": [
    "old_v = deepcopy(V)\n",
    "V = deepcopy(new_V)\n",
    "factors = [ f for f in V if f!= target_name]\n",
    "annotated_name = [target_name]+factors\n",
    "annoted_values = data_interface[annotated_name].values\n",
    "\n",
    "# Causal Discovery (FCI)\n",
    "g, edges = fci(annoted_values, alpha = 0.05, independence_test_method='kci', verbose=False)\n",
    "\n",
    "# visualization\n",
    "pdy = GraphUtils.to_pydot(g, labels=annotated_name)\n",
    "print(pdy.to_string())"
   ]
  },
  {
   "cell_type": "code",
   "execution_count": 32,
   "metadata": {},
   "outputs": [
    {
     "name": "stdout",
     "output_type": "stream",
     "text": [
      "0.5\t0.24809703109881054\t0.3327250039595729\n"
     ]
    }
   ],
   "source": [
    "con_mi_old, _ = avg10(y, x, h=data_interface[list(old_v.difference([target_name]))].values)\n",
    "\n",
    "con_mi_add, _ = avg10(y, x, h=data_interface[list(old_v.union(new_factors).difference([target_name]))].values)\n",
    "\n",
    "con_mi_current, _ = avg10(y, x, h=data_interface[list(V.difference([target_name]))].values)\n",
    "\n",
    "n_new_factor = len(set([get_factor_name(fstr) for fstr in factor_list]).intersection(new_factors))\n",
    "\n",
    "C = 1 - (con_mi_add/con_mi_old)**(1/n_new_factor) if n_new_factor>0 else '-'\n",
    "\n",
    "P = n_new_factor/ len(factor_list)\n",
    "\n",
    "print(P, C, con_mi_current, sep='\\t')"
   ]
  }
 ],
 "metadata": {
  "kernelspec": {
   "display_name": "Python 3",
   "language": "python",
   "name": "python3"
  },
  "language_info": {
   "codemirror_mode": {
    "name": "ipython",
    "version": 3
   },
   "file_extension": ".py",
   "mimetype": "text/x-python",
   "name": "python",
   "nbconvert_exporter": "python",
   "pygments_lexer": "ipython3",
   "version": "3.11.8"
  }
 },
 "nbformat": 4,
 "nbformat_minor": 2
}
